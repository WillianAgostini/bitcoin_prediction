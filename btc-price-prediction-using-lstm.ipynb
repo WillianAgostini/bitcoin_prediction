{
 "cells": [
  {
   "cell_type": "code",
   "execution_count": 1,
   "metadata": {
    "_cell_guid": "b1076dfc-b9ad-4769-8c92-a6c4dae69d19",
    "_uuid": "8f2839f25d086af736a60e9eeb907d3b93b6e0e5"
   },
   "outputs": [],
   "source": [
    "from dateutil.relativedelta import relativedelta\n",
    "from sklearn.metrics import mean_squared_error, mean_absolute_error, r2_score\n",
    "from keras.layers import Dense, LSTM, Dropout, GRU, Bidirectional\n",
    "from keras.models import Sequential\n",
    "from sklearn.preprocessing import MinMaxScaler\n",
    "from sklearn.model_selection import train_test_split\n",
    "import numpy as np  # linear algebra\n",
    "import pandas as pd  # data processing, CSV file I/O (e.g. pd.read_csv)\n",
    "import matplotlib.pyplot as plt  # data visualization\n",
    "import matplotlib.dates as mdates\n",
    "import warnings\n",
    "from dateutil.relativedelta import relativedelta\n",
    "from functions import *\n",
    "import seaborn as sns\n",
    "\n",
    "warnings.filterwarnings(action='ignore')\n",
    "warnings.filterwarnings(action='ignore', category=DeprecationWarning)\n",
    "warnings.filterwarnings(action='ignore', category=FutureWarning)\n",
    "\n",
    "showGraphs = True\n",
    "\n",
    "%matplotlib inline\n"
   ]
  },
  {
   "cell_type": "code",
   "execution_count": 2,
   "metadata": {
    "_cell_guid": "b1076dfc-b9ad-4769-8c92-a6c4dae69d19",
    "_uuid": "8f2839f25d086af736a60e9eeb907d3b93b6e0e5"
   },
   "outputs": [
    {
     "name": "stdout",
     "output_type": "stream",
     "text": [
      "<class 'pandas.core.frame.DataFrame'>\n",
      "RangeIndex: 4857377 entries, 0 to 4857376\n",
      "Data columns (total 8 columns):\n",
      " #   Column             Dtype  \n",
      "---  ------             -----  \n",
      " 0   Timestamp          int64  \n",
      " 1   Open               float64\n",
      " 2   High               float64\n",
      " 3   Low                float64\n",
      " 4   Close              float64\n",
      " 5   Volume_(BTC)       float64\n",
      " 6   Volume_(Currency)  float64\n",
      " 7   Weighted_Price     float64\n",
      "dtypes: float64(7), int64(1)\n",
      "memory usage: 296.5 MB\n"
     ]
    }
   ],
   "source": [
    "# Any results you write to the current directory are saved as output.\n",
    "coinbase = pd.read_csv(\n",
    "    \"./data/bitstampUSD_1-min_data_2012-01-01_to_2021-03-31.csv\")\n",
    "\n",
    "coinbase.describe()\n",
    "coinbase.tail()\n",
    "coinbase.info()\n"
   ]
  },
  {
   "cell_type": "markdown",
   "metadata": {},
   "source": [
    "Filtrar intervalo de dados"
   ]
  },
  {
   "cell_type": "code",
   "execution_count": 7,
   "metadata": {
    "_uuid": "5e3cc7f80b254a02285b48ff3aa15b62a8347990"
   },
   "outputs": [
    {
     "name": "stdout",
     "output_type": "stream",
     "text": [
      "O intervalo entre datas é de 31/12/2019 00:00:00 até 31/12/2020 00:00:00, somando um total de 527041 registros.\n"
     ]
    }
   ],
   "source": [
    "filtered = filterByInterval(coinbase, relativedelta(months=15))\n",
    "\n",
    "if hasMissingData(filtered['Timestamp'].values):\n",
    "    raise Exception(\"Missing data in the dataframe\")\n",
    "\n",
    "print(\"O intervalo entre datas é de {} até {}, somando um total de {} registros.\".format(\n",
    "    getFirstTimestamp(filtered), getLastTimestamp(filtered), filtered.shape[0]))\n"
   ]
  },
  {
   "cell_type": "markdown",
   "metadata": {},
   "source": [
    "Prepara os dados históricos agrupandos por hora"
   ]
  },
  {
   "cell_type": "code",
   "execution_count": 4,
   "metadata": {},
   "outputs": [],
   "source": [
    "historical = filtered.dropna().reset_index(drop=True)\n",
    "historical.Timestamp = pd.to_datetime(historical.Timestamp, unit='s')\n",
    "# historical['date'] = historical.Timestamp.dt.date\n",
    "historical['dateHour'] = historical.Timestamp.dt.strftime('%Y-%m-%d %H')\n",
    "historical_per_hour = historical.groupby(historical.dateHour).mean()"
   ]
  },
  {
   "cell_type": "code",
   "execution_count": 5,
   "metadata": {},
   "outputs": [
    {
     "ename": "TypeError",
     "evalue": "an integer is required (got type str)",
     "output_type": "error",
     "traceback": [
      "\u001b[0;31m---------------------------------------------------------------------------\u001b[0m",
      "\u001b[0;31mTypeError\u001b[0m                                 Traceback (most recent call last)",
      "\u001b[1;32m/home/willian/github/bitcoin_prediction/btc-price-prediction-using-lstm.ipynb Cell 7'\u001b[0m in \u001b[0;36m<module>\u001b[0;34m\u001b[0m\n\u001b[1;32m      <a href='vscode-notebook-cell:/home/willian/github/bitcoin_prediction/btc-price-prediction-using-lstm.ipynb#ch0000040?line=0'>1</a>\u001b[0m \u001b[39mif\u001b[39;00m showGraphs:\n\u001b[1;32m      <a href='vscode-notebook-cell:/home/willian/github/bitcoin_prediction/btc-price-prediction-using-lstm.ipynb#ch0000040?line=1'>2</a>\u001b[0m     kw \u001b[39m=\u001b[39m \u001b[39mdict\u001b[39m(annot_yaxis\u001b[39m=\u001b[39m\u001b[39m10000\u001b[39m, annot_xaxis\u001b[39m=\u001b[39m\u001b[39m-\u001b[39m\u001b[39m1000\u001b[39m, annot_xaxis_pos\u001b[39m=\u001b[39m\u001b[39m-\u001b[39m\u001b[39m6000\u001b[39m, annot_yaxis_pos\u001b[39m=\u001b[39m\u001b[39m-\u001b[39m\n\u001b[1;32m      <a href='vscode-notebook-cell:/home/willian/github/bitcoin_prediction/btc-price-prediction-using-lstm.ipynb#ch0000040?line=2'>3</a>\u001b[0m               \u001b[39m8000\u001b[39m, angle\u001b[39m=\u001b[39m\u001b[39m\"\u001b[39m\u001b[39mangle,angleA=0,angleB=90\u001b[39m\u001b[39m\"\u001b[39m, angle_pos\u001b[39m=\u001b[39m\u001b[39m\"\u001b[39m\u001b[39mangle,angleA=0,angleB=-90\u001b[39m\u001b[39m\"\u001b[39m)\n\u001b[0;32m----> <a href='vscode-notebook-cell:/home/willian/github/bitcoin_prediction/btc-price-prediction-using-lstm.ipynb#ch0000040?line=4'>5</a>\u001b[0m     figureCloses(historical_per_hour, \u001b[39m'\u001b[39;49m\u001b[39mClose\u001b[39;49m\u001b[39m'\u001b[39;49m, \u001b[39m*\u001b[39;49m\u001b[39m*\u001b[39;49mkw)\n",
      "File \u001b[0;32m/tf/functions.py:85\u001b[0m, in \u001b[0;36mfigureCloses\u001b[0;34m(data, atribute, createFigure, showAnnotate, subtitle, fontsize, mask_yaxis, annot_yaxis, annot_xaxis, annot_xaxis_pos, annot_yaxis_pos, angle, angle_pos)\u001b[0m\n\u001b[1;32m     <a href='file:///tf/functions.py?line=80'>81</a>\u001b[0m     plt\u001b[39m.\u001b[39mfigure(figsize\u001b[39m=\u001b[39m(\u001b[39m14\u001b[39m, \u001b[39m6\u001b[39m))\n\u001b[1;32m     <a href='file:///tf/functions.py?line=82'>83</a>\u001b[0m plt\u001b[39m.\u001b[39msuptitle(subtitle, fontsize\u001b[39m=\u001b[39mfontsize)\n\u001b[1;32m     <a href='file:///tf/functions.py?line=83'>84</a>\u001b[0m plt\u001b[39m.\u001b[39mtitle(\u001b[39m\"\u001b[39m\u001b[39mDe \u001b[39m\u001b[39m{}\u001b[39;00m\u001b[39m Até \u001b[39m\u001b[39m{}\u001b[39;00m\u001b[39m\"\u001b[39m\u001b[39m.\u001b[39mformat(\n\u001b[0;32m---> <a href='file:///tf/functions.py?line=84'>85</a>\u001b[0m     getFirstTimestamp(data), getLastTimestamp(data)), fontsize\u001b[39m=\u001b[39m\u001b[39m14\u001b[39m)\n\u001b[1;32m     <a href='file:///tf/functions.py?line=85'>86</a>\u001b[0m plt\u001b[39m.\u001b[39mgrid()\n\u001b[1;32m     <a href='file:///tf/functions.py?line=86'>87</a>\u001b[0m plt\u001b[39m.\u001b[39mplot(data[atribute]\u001b[39m.\u001b[39mvalues)\n",
      "File \u001b[0;32m/tf/functions.py:10\u001b[0m, in \u001b[0;36mgetFirstTimestamp\u001b[0;34m(data)\u001b[0m\n\u001b[1;32m      <a href='file:///tf/functions.py?line=7'>8</a>\u001b[0m \u001b[39mif\u001b[39;00m \u001b[39m'\u001b[39m\u001b[39mTimestamp\u001b[39m\u001b[39m'\u001b[39m \u001b[39min\u001b[39;00m data\u001b[39m.\u001b[39mcolumns:\n\u001b[1;32m      <a href='file:///tf/functions.py?line=8'>9</a>\u001b[0m     \u001b[39mreturn\u001b[39;00m datetime\u001b[39m.\u001b[39mfromtimestamp(data[\u001b[39m\"\u001b[39m\u001b[39mTimestamp\u001b[39m\u001b[39m\"\u001b[39m][:\u001b[39m1\u001b[39m])\u001b[39m.\u001b[39mstrftime(\u001b[39m\"\u001b[39m\u001b[39m%d\u001b[39;00m\u001b[39m/\u001b[39m\u001b[39m%\u001b[39m\u001b[39mm/\u001b[39m\u001b[39m%\u001b[39m\u001b[39mY \u001b[39m\u001b[39m%\u001b[39m\u001b[39mH:\u001b[39m\u001b[39m%\u001b[39m\u001b[39mM:\u001b[39m\u001b[39m%\u001b[39m\u001b[39mS\u001b[39m\u001b[39m\"\u001b[39m)\n\u001b[0;32m---> <a href='file:///tf/functions.py?line=9'>10</a>\u001b[0m \u001b[39mreturn\u001b[39;00m datetime\u001b[39m.\u001b[39;49mfromtimestamp(data\u001b[39m.\u001b[39;49mindex[:\u001b[39m1\u001b[39;49m][\u001b[39m0\u001b[39;49m])\u001b[39m.\u001b[39mstrftime(\u001b[39m\"\u001b[39m\u001b[39m%d\u001b[39;00m\u001b[39m/\u001b[39m\u001b[39m%\u001b[39m\u001b[39mm/\u001b[39m\u001b[39m%\u001b[39m\u001b[39mY \u001b[39m\u001b[39m%\u001b[39m\u001b[39mH:\u001b[39m\u001b[39m%\u001b[39m\u001b[39mM:\u001b[39m\u001b[39m%\u001b[39m\u001b[39mS\u001b[39m\u001b[39m\"\u001b[39m)\n",
      "\u001b[0;31mTypeError\u001b[0m: an integer is required (got type str)"
     ]
    },
    {
     "data": {
      "text/plain": [
       "<Figure size 1008x432 with 0 Axes>"
      ]
     },
     "metadata": {},
     "output_type": "display_data"
    }
   ],
   "source": [
    "if showGraphs:\n",
    "    kw = dict(annot_yaxis=10000, annot_xaxis=-1000, annot_xaxis_pos=-6000, annot_yaxis_pos=-\n",
    "              8000, angle=\"angle,angleA=0,angleB=90\", angle_pos=\"angle,angleA=0,angleB=-90\")\n",
    "    # figureCloses(historical_per_hour, 'Close', **kw)\n"
   ]
  },
  {
   "cell_type": "markdown",
   "metadata": {},
   "source": [
    "Gráfico Pairplot"
   ]
  },
  {
   "cell_type": "code",
   "execution_count": null,
   "metadata": {},
   "outputs": [],
   "source": [
    "if showGraphs:\n",
    "    plt.figure(figsize = (30,30))\n",
    "    sns.pairplot(historical_per_hour)\n"
   ]
  },
  {
   "cell_type": "markdown",
   "metadata": {},
   "source": [
    "Preparação dos Dados"
   ]
  },
  {
   "cell_type": "code",
   "execution_count": 10,
   "metadata": {},
   "outputs": [
    {
     "name": "stdout",
     "output_type": "stream",
     "text": [
      "8781\n"
     ]
    }
   ],
   "source": [
    "data = historical_per_hour.Close\n",
    "data = data.values\n",
    "max = np.max(data)\n",
    "data = data/max"
   ]
  },
  {
   "cell_type": "markdown",
   "metadata": {},
   "source": [
    "Separar dados de Treino e Teste"
   ]
  },
  {
   "cell_type": "code",
   "execution_count": null,
   "metadata": {},
   "outputs": [],
   "source": [
    "X = [data[i:i+10] for i in range(len(data)-11)]\n",
    "Y = [data[i+10] for i in range(len(data)-11)]\n",
    "X_train, X_test, Y_train, Y_test = train_test_split(\n",
    "    X, Y, test_size=0.25, shuffle=False)\n",
    "X_train = np.array(X_train)\n",
    "X_test = np.array(X_test)\n",
    "Y_train = np.array(Y_train)\n",
    "Y_test = np.array(Y_test)\n",
    "\n",
    "X_train = np.reshape(X_train, (X_train.shape[0], 1, X_train.shape[1]))\n",
    "X_test = np.reshape(X_test, (X_test.shape[0], 1, X_test.shape[1]))"
   ]
  },
  {
   "cell_type": "markdown",
   "metadata": {},
   "source": [
    "Criação do Modelo"
   ]
  },
  {
   "cell_type": "code",
   "execution_count": null,
   "metadata": {},
   "outputs": [],
   "source": [
    "np.random.seed(0)\n",
    "\n",
    "lstm = LSTM(64, activation='relu')\n",
    "\n",
    "model = Sequential([\n",
    "    Bidirectional(lstm, input_shape=(1, 10)),\n",
    "    Dropout(0.15),\n",
    "    Dense(1)\n",
    "])\n",
    "model.compile(loss='mse', optimizer='adam')\n",
    "history = model.fit(X_train, Y_train, epochs=20)\n"
   ]
  },
  {
   "cell_type": "markdown",
   "metadata": {},
   "source": [
    "Treinamento do Modelo"
   ]
  },
  {
   "cell_type": "code",
   "execution_count": null,
   "metadata": {},
   "outputs": [],
   "source": [
    "pred_train = model.predict(X_train)\n",
    "\n",
    "print(\"Mean absolute error regression loss: %.4f\" %\n",
    "      mean_absolute_error(Y_train, pred_train))\n",
    "print(\"Root mean squared error regression loss: %.4f\" %\n",
    "      np.sqrt(mean_squared_error(Y_train, pred_train)))\n",
    "print(\"R2 score: %.4f\" % r2_score(Y_train, pred_train))\n"
   ]
  },
  {
   "cell_type": "markdown",
   "metadata": {},
   "source": [
    "Gráfico da função de perda"
   ]
  },
  {
   "cell_type": "code",
   "execution_count": null,
   "metadata": {},
   "outputs": [],
   "source": [
    "if showGraphs:\n",
    "    plt.figure(figsize=(8, 8))\n",
    "    plt.title(\"Loss evolution\")\n",
    "    plt.xlabel(\"Epoch\")\n",
    "    plt.ylabel(\"Loss\")\n",
    "    plt.plot(history.history['loss'])"
   ]
  },
  {
   "cell_type": "markdown",
   "metadata": {},
   "source": [
    "Gráfico da predição comparado com os dados de teste"
   ]
  },
  {
   "cell_type": "code",
   "execution_count": null,
   "metadata": {},
   "outputs": [],
   "source": [
    "if showGraphs:\n",
    "    preds1 = pred_train * max\n",
    "    plt.figure(figsize=(12, 12))\n",
    "    plt.plot(Y_train * max, c='red', label='predicted values', linewidth=2)\n",
    "    plt.plot(preds1, c='blue', label='real values', linewidth=2)\n",
    "    plt.xlabel(\"Days\")\n",
    "    plt.title(\"prediction on train data\")\n",
    "    plt.legend()\n"
   ]
  },
  {
   "cell_type": "markdown",
   "metadata": {},
   "source": [
    "Gráfico da predição comparado com os dados de validação"
   ]
  },
  {
   "cell_type": "code",
   "execution_count": null,
   "metadata": {},
   "outputs": [],
   "source": [
    "if showGraphs:\n",
    "    preds = model.predict(X_test) * max\n",
    "    plt.figure(figsize=(14, 14))\n",
    "    plt.plot(preds, c='red', label='predicted values', linewidth=2)\n",
    "    plt.plot(Y_test * max, c='blue', label='real values', linewidth=2)\n",
    "    plt.xlabel(\"Days\")\n",
    "    plt.title(\"prediction on test data\")\n",
    "    plt.legend()\n"
   ]
  },
  {
   "cell_type": "code",
   "execution_count": null,
   "metadata": {},
   "outputs": [],
   "source": []
  },
  {
   "cell_type": "markdown",
   "metadata": {
    "_uuid": "02066b178113dde23e3b55746623c34fe31742b6"
   },
   "source": [
    "Train using LSTM "
   ]
  },
  {
   "cell_type": "code",
   "execution_count": null,
   "metadata": {
    "_uuid": "97f2e44fbb694b24522bedd99f2c6a9e6d934f6f"
   },
   "outputs": [],
   "source": [
    "# # The LSTM architecture\n",
    "# regressor = Sequential()\n",
    "# # First LSTM layer with Dropout regularisation\n",
    "# regressor.add(LSTM(units=50, return_sequences=True,\n",
    "#               input_shape=(X_train.shape[1], 1)))\n",
    "# regressor.add(Dropout(0.2))\n",
    "\n",
    "# # Second LSTM layer\n",
    "# regressor.add(LSTM(units=50, return_sequences=True))\n",
    "# regressor.add(Dropout(0.2))\n",
    "\n",
    "# # Third LSTM layer\n",
    "# regressor.add(LSTM(units=50, return_sequences=True))\n",
    "# regressor.add(Dropout(0.5))\n",
    "\n",
    "# # Fourth LSTM layer\n",
    "# regressor.add(LSTM(units=50))\n",
    "# regressor.add(Dropout(0.5))\n",
    "\n",
    "# # The output layer\n",
    "# regressor.add(Dense(units=1))\n",
    "\n",
    "# # Compiling the RNN\n",
    "# regressor.compile(optimizer='adam', loss='mean_absolute_error')\n",
    "# # Fitting to the training set\n",
    "# regressor.fit(X_train, y_train, epochs=1, batch_size=500)\n"
   ]
  },
  {
   "cell_type": "code",
   "execution_count": null,
   "metadata": {
    "_uuid": "7f41fc0e9bb329ed6a2a3e44689590aae66f44d2"
   },
   "outputs": [],
   "source": [
    "\n"
   ]
  },
  {
   "cell_type": "code",
   "execution_count": null,
   "metadata": {
    "_uuid": "2ec7e65a7e8babcc2befccdb020f02d228343e4e"
   },
   "outputs": [],
   "source": []
  },
  {
   "cell_type": "markdown",
   "metadata": {
    "_uuid": "4db281d75bfbf413f1896d66740d2406d9d759e4"
   },
   "source": [
    "This is clearly overfitting"
   ]
  }
 ],
 "metadata": {
  "kernelspec": {
   "display_name": "Python 3 (ipykernel)",
   "language": "python",
   "name": "python3"
  },
  "language_info": {
   "codemirror_mode": {
    "name": "ipython",
    "version": 3
   },
   "file_extension": ".py",
   "mimetype": "text/x-python",
   "name": "python",
   "nbconvert_exporter": "python",
   "pygments_lexer": "ipython3",
   "version": "3.8.10"
  }
 },
 "nbformat": 4,
 "nbformat_minor": 4
}
